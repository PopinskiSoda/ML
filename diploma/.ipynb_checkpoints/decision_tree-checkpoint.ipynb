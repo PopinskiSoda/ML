{
 "cells": [
  {
   "cell_type": "code",
   "execution_count": 42,
   "metadata": {},
   "outputs": [
    {
     "data": {
      "text/html": [
       "<script>requirejs.config({paths: { 'plotly': ['https://cdn.plot.ly/plotly-latest.min']},});if(!window.Plotly) {{require(['plotly'],function(plotly) {window.Plotly=plotly;});}}</script>"
      ],
      "text/vnd.plotly.v1+html": [
       "<script>requirejs.config({paths: { 'plotly': ['https://cdn.plot.ly/plotly-latest.min']},});if(!window.Plotly) {{require(['plotly'],function(plotly) {window.Plotly=plotly;});}}</script>"
      ]
     },
     "metadata": {},
     "output_type": "display_data"
    },
    {
     "name": "stdout",
     "output_type": "stream",
     "text": [
      "0.7676646706586826\n"
     ]
    }
   ],
   "source": [
    "import numpy as np\n",
    "import pandas as pd\n",
    "import re\n",
    "import xgboost as xgb\n",
    "import seaborn as sns\n",
    "import matplotlib.pyplot as plt\n",
    "\n",
    "import plotly.offline as py\n",
    "py.init_notebook_mode(connected=True)\n",
    "import plotly.graph_objs as go\n",
    "import plotly.tools as tls\n",
    "\n",
    "from sklearn import tree\n",
    "from sklearn.metrics import accuracy_score\n",
    "from sklearn.model_selection import KFold\n",
    "from sklearn.model_selection import cross_val_score\n",
    "from IPython.display import Image as PImage\n",
    "from subprocess import check_call\n",
    "from PIL import Image, ImageDraw, ImageFont\n",
    "\n",
    "from sklearn.model_selection import train_test_split\n",
    "\n",
    "\n",
    "full_data = pd.read_csv('./src/data/starcraft.csv')\n",
    "# full_data = full_data[full_data.LeagueIndex != 8]\n",
    "full_data = full_data.dropna(axis=0, how='any')\n",
    "\n",
    "# Mapping data: \n",
    "\n",
    "# full_data['LeagueIndex'] = full_data['LeagueIndex']\n",
    "full_data = full_data.drop(['TotalHours'], axis=1)\n",
    "full_data['LeagueIndex'] = np.where(full_data.LeagueIndex > 4, 1, 0)\n",
    "\n",
    "train, test = train_test_split(full_data)\n",
    "\n",
    "# print(full_data.head(10))\n",
    "\n",
    "# full_data.isnull().values.any()\n",
    "\n",
    "train[['LeagueIndex', 'APM', 'HoursPerWeek', 'Age', 'AssignToHotkeys', 'TotalMapExplored', 'WorkersMade', 'ComplexAbilityUsed', 'ComplexUnitsMade']].groupby(['LeagueIndex'], as_index=False).agg(['mean', 'count'])\n",
    "\n",
    "y_train = train['LeagueIndex']\n",
    "x_train = train.drop(['LeagueIndex'], axis=1).values \n",
    "x_test = test.drop(['LeagueIndex'], axis=1).values\n",
    "y_test = test['LeagueIndex']\n",
    "\n",
    "decision_tree = tree.DecisionTreeClassifier(max_depth = 1000, max_features=1000)\n",
    "decision_tree.fit(x_train, y_train)\n",
    "\n",
    "y_pred = decision_tree.predict(x_test)\n",
    "\n",
    "GameID = test['GameID']\n",
    "\n",
    "submission = pd.DataFrame({\n",
    "        \"GameID\": GameID,\n",
    "        \"LeagueIndex\": y_pred\n",
    "    })\n",
    "submission.to_csv('submission.csv', index=False)\n",
    "\n",
    "# Export our trained model as a .dot file\n",
    "with open(\"tree1.dot\", 'w') as f:\n",
    "     f = tree.export_graphviz(decision_tree,\n",
    "                              out_file = f,\n",
    "                              max_depth = 5,\n",
    "                              impurity = True,\n",
    "                              feature_names = list(train.drop(['LeagueIndex'], axis=1)),\n",
    "                              class_names = ['0', '1'],\n",
    "                              rounded = True,\n",
    "                              filled= True )\n",
    "        \n",
    "#Convert .dot to .png to allow display in web notebook\n",
    "check_call(['dot','-Tpng','tree1.dot','-o','tree1.png'])\n",
    "\n",
    "# Annotating chart with PIL\n",
    "img = Image.open(\"tree1.png\")\n",
    "draw = ImageDraw.Draw(img)\n",
    "font = ImageFont.truetype('/usr/share/fonts/truetype/liberation/LiberationSerif-Bold.ttf', 26)\n",
    "draw.text((10, 0), # Drawing offset (position)\n",
    "          '\"Title <= 1.5\" corresponds to \"Mr.\" title', # Text to draw\n",
    "          (0,0,255), # RGB desired color\n",
    "          font=font) # ImageFont object with desired font\n",
    "img.save('sample-out.png')\n",
    "PImage(\"sample-out.png\")\n",
    "\n",
    "print(decision_tree.score(x_test, y_test))"
   ]
  },
  {
   "cell_type": "code",
   "execution_count": null,
   "metadata": {},
   "outputs": [],
   "source": [
    "\n"
   ]
  },
  {
   "cell_type": "code",
   "execution_count": null,
   "metadata": {},
   "outputs": [],
   "source": []
  }
 ],
 "metadata": {
  "kernelspec": {
   "display_name": "Python 3",
   "language": "python",
   "name": "python3"
  },
  "language_info": {
   "codemirror_mode": {
    "name": "ipython",
    "version": 3
   },
   "file_extension": ".py",
   "mimetype": "text/x-python",
   "name": "python",
   "nbconvert_exporter": "python",
   "pygments_lexer": "ipython3",
   "version": "3.6.4"
  }
 },
 "nbformat": 4,
 "nbformat_minor": 2
}
